{
  "nbformat": 4,
  "nbformat_minor": 0,
  "metadata": {
    "colab": {
      "provenance": [],
      "authorship_tag": "ABX9TyOkLcrbPAOtokMOVwCSnSzH",
      "include_colab_link": true
    },
    "kernelspec": {
      "name": "python3",
      "display_name": "Python 3"
    },
    "language_info": {
      "name": "python"
    }
  },
  "cells": [
    {
      "cell_type": "markdown",
      "metadata": {
        "id": "view-in-github",
        "colab_type": "text"
      },
      "source": [
        "<a href=\"https://colab.research.google.com/github/falgunip02/Flower_Shop/blob/main/bdiexp1.ipynb\" target=\"_parent\"><img src=\"https://colab.research.google.com/assets/colab-badge.svg\" alt=\"Open In Colab\"/></a>"
      ]
    },
    {
      "cell_type": "code",
      "execution_count": 14,
      "metadata": {
        "colab": {
          "base_uri": "https://localhost:8080/"
        },
        "id": "h7__kC0Ofj9_",
        "outputId": "75511a9e-fe0b-4d5a-dde8-e146bdf81949"
      },
      "outputs": [
        {
          "output_type": "stream",
          "name": "stdout",
          "text": [
            "    Segment    Ship Mode         OrderID     Sales\n",
            "0  Consumer  First Class  CA-2011-103366   149.950\n",
            "1  Consumer  First Class  CA-2011-109043   243.600\n",
            "2  Consumer  First Class  CA-2011-113166     9.568\n",
            "3  Consumer  First Class  CA-2011-124023     8.960\n",
            "4  Consumer  First Class  CA-2011-130155    34.200\n",
            "5  Consumer  First Class  CA-2011-136861    31.984\n",
            "6  Consumer  First Class  CA-2011-153927   286.650\n",
            "7  Consumer  First Class  CA-2011-157784   514.030\n",
            "8  Consumer  First Class  CA-2011-160094  1000.950\n",
            "9  Consumer  First Class  CA-2011-166730    39.128\n"
          ]
        }
      ],
      "source": [
        "import pandas as pd\n",
        "import numpy as np\n",
        "import matplotlib.pyplot as plt\n",
        "\n",
        "df = pd.read_csv('/content/dirtydata.csv')\n",
        "dff = pd.read_csv('/content/clean_data.csv')\n",
        "print(df.head(10))"
      ]
    },
    {
      "cell_type": "code",
      "source": [
        "print(df.columns)\n",
        "print(df.info())\n",
        "print(df.describe())"
      ],
      "metadata": {
        "colab": {
          "base_uri": "https://localhost:8080/"
        },
        "id": "XUVsvV4jknRe",
        "outputId": "d2f18c2f-54fd-481d-a1d4-5111aba61789"
      },
      "execution_count": 15,
      "outputs": [
        {
          "output_type": "stream",
          "name": "stdout",
          "text": [
            "Index(['Segment', 'Ship Mode', 'OrderID', 'Sales'], dtype='object')\n",
            "<class 'pandas.core.frame.DataFrame'>\n",
            "RangeIndex: 830 entries, 0 to 829\n",
            "Data columns (total 4 columns):\n",
            " #   Column     Non-Null Count  Dtype  \n",
            "---  ------     --------------  -----  \n",
            " 0   Segment    830 non-null    object \n",
            " 1   Ship Mode  830 non-null    object \n",
            " 2   OrderID    830 non-null    object \n",
            " 3   Sales      830 non-null    float64\n",
            "dtypes: float64(1), object(3)\n",
            "memory usage: 26.1+ KB\n",
            "None\n",
            "               Sales\n",
            "count     830.000000\n",
            "mean      942.741784\n",
            "std      5514.719843\n",
            "min         1.167000\n",
            "25%        35.072000\n",
            "50%       175.203000\n",
            "75%       561.519375\n",
            "max    116922.134500\n"
          ]
        }
      ]
    },
    {
      "cell_type": "code",
      "source": [
        "#Dropping duplicates\n",
        "df.drop_duplicates(inplace = True)"
      ],
      "metadata": {
        "id": "OWUT_WdRlBx3"
      },
      "execution_count": 16,
      "outputs": []
    },
    {
      "cell_type": "code",
      "source": [
        "# get the number of missing data points per column\n",
        "missing_values_count = df.isnull().sum()\n",
        "\n",
        "# look at the # of missing points in the first ten columns\n",
        "missing_values_count[0:10]"
      ],
      "metadata": {
        "colab": {
          "base_uri": "https://localhost:8080/"
        },
        "id": "p3G1bqP9lF2m",
        "outputId": "6de6cbdd-694f-40f0-8bfe-c15012924566"
      },
      "execution_count": 26,
      "outputs": [
        {
          "output_type": "execute_result",
          "data": {
            "text/plain": [
              "Segment      0\n",
              "Ship Mode    0\n",
              "OrderID      0\n",
              "Sales        0\n",
              "dtype: int64"
            ]
          },
          "metadata": {},
          "execution_count": 26
        }
      ]
    },
    {
      "cell_type": "code",
      "source": [
        "\n",
        "# Drop the column '0' from the DataFrame\n",
        "dff.drop(columns=['OrderID'], axis=1, inplace=True)\n"
      ],
      "metadata": {
        "id": "8Yz8R4LgmhUG"
      },
      "execution_count": 24,
      "outputs": []
    },
    {
      "cell_type": "code",
      "source": [
        "dff.drop(columns=['Sales'], axis=1, inplace=True)\n",
        "dff.drop(columns=['Ship Mode'], axis=1, inplace=True)"
      ],
      "metadata": {
        "id": "RdSDOh-xoSh6"
      },
      "execution_count": 25,
      "outputs": []
    },
    {
      "cell_type": "code",
      "source": [
        "a = []  # Segment\n",
        "b = []  # Ship Mode\n",
        "c = []  # OrderID\n",
        "d = []  # Sales\n",
        "\n"
      ],
      "metadata": {
        "id": "t7TDcjoqodHA"
      },
      "execution_count": null,
      "outputs": []
    },
    {
      "cell_type": "code",
      "source": [
        "total_cells = np.product(df.shape)\n",
        "total_missing = missing_values_count.sum()\n",
        "\n",
        "# percent of data that is missing\n",
        "(total_missing/total_cells) * 100"
      ],
      "metadata": {
        "colab": {
          "base_uri": "https://localhost:8080/",
          "height": 245
        },
        "id": "NaV-9P3qoqF-",
        "outputId": "7db28583-2481-4efe-a974-c79386f4d78b"
      },
      "execution_count": 1,
      "outputs": [
        {
          "output_type": "error",
          "ename": "NameError",
          "evalue": "name 'np' is not defined",
          "traceback": [
            "\u001b[0;31m---------------------------------------------------------------------------\u001b[0m",
            "\u001b[0;31mNameError\u001b[0m                                 Traceback (most recent call last)",
            "\u001b[0;32m<ipython-input-1-a7439b2b8451>\u001b[0m in \u001b[0;36m<cell line: 1>\u001b[0;34m()\u001b[0m\n\u001b[0;32m----> 1\u001b[0;31m \u001b[0mtotal_cells\u001b[0m \u001b[0;34m=\u001b[0m \u001b[0mnp\u001b[0m\u001b[0;34m.\u001b[0m\u001b[0mproduct\u001b[0m\u001b[0;34m(\u001b[0m\u001b[0mdf\u001b[0m\u001b[0;34m.\u001b[0m\u001b[0mshape\u001b[0m\u001b[0;34m)\u001b[0m\u001b[0;34m\u001b[0m\u001b[0;34m\u001b[0m\u001b[0m\n\u001b[0m\u001b[1;32m      2\u001b[0m \u001b[0mtotal_missing\u001b[0m \u001b[0;34m=\u001b[0m \u001b[0mmissing_values_count\u001b[0m\u001b[0;34m.\u001b[0m\u001b[0msum\u001b[0m\u001b[0;34m(\u001b[0m\u001b[0;34m)\u001b[0m\u001b[0;34m\u001b[0m\u001b[0;34m\u001b[0m\u001b[0m\n\u001b[1;32m      3\u001b[0m \u001b[0;34m\u001b[0m\u001b[0m\n\u001b[1;32m      4\u001b[0m \u001b[0;31m# percent of data that is missing\u001b[0m\u001b[0;34m\u001b[0m\u001b[0;34m\u001b[0m\u001b[0m\n\u001b[1;32m      5\u001b[0m \u001b[0;34m(\u001b[0m\u001b[0mtotal_missing\u001b[0m\u001b[0;34m/\u001b[0m\u001b[0mtotal_cells\u001b[0m\u001b[0;34m)\u001b[0m \u001b[0;34m*\u001b[0m \u001b[0;36m100\u001b[0m\u001b[0;34m\u001b[0m\u001b[0;34m\u001b[0m\u001b[0m\n",
            "\u001b[0;31mNameError\u001b[0m: name 'np' is not defined"
          ]
        }
      ]
    },
    {
      "cell_type": "code",
      "source": [],
      "metadata": {
        "id": "J-p_jQfZqItU"
      },
      "execution_count": null,
      "outputs": []
    },
    {
      "cell_type": "code",
      "source": [
        "from google.colab import drive\n",
        "drive.mount('/content/drive')"
      ],
      "metadata": {
        "id": "RLM8_4UFkIPh"
      },
      "execution_count": null,
      "outputs": []
    }
  ]
}